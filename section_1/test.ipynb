{
  "cells": [
    {
      "cell_type": "markdown",
      "metadata": {
        "colab_type": "text",
        "id": "view-in-github"
      },
      "source": [
        "<a href=\"https://colab.research.google.com/github/yukinaga/ai_webapp/blob/main/section_1/01_demo.ipynb\" target=\"_parent\"><img src=\"https://colab.research.google.com/assets/colab-badge.svg\" alt=\"Open In Colab\"/></a>"
      ]
    },
    {
      "cell_type": "markdown",
      "metadata": {
        "id": "8kW_qXJVTjic"
      },
      "source": [
        "# 最初のStreamlitアプリ\n",
        "タイトルを表示するだけのシンプルなStreamlitアプリを作成し、ngrokを使って動作を確認します。"
      ]
    },
    {
      "cell_type": "markdown",
      "metadata": {
        "id": "vRJCuxALcgkb"
      },
      "source": [
        "## ●ライブラリのインストール\n",
        "Streamlit、およびアプリの動作の確認に使用する「ngrok」をインストールします。"
      ]
    },
    {
      "cell_type": "code",
      "execution_count": null,
      "metadata": {
        "id": "Pbqipzj3nCy4"
      },
      "outputs": [],
      "source": [
        "!pip install streamlit==1.20.0 --quiet\n",
        "!pip install pyngrok==4.1.1 --quiet"
      ]
    },
    {
      "cell_type": "markdown",
      "metadata": {
        "id": "husUkYy5dhZ4"
      },
      "source": [
        "Streamlit、およびngrokをインポートしておきます。  \n",
        "エラーが発生する場合は、「ランタイム」→「ランタイムを再起動」によりランタイムを再起動し、再びコードセルを上から順に実行しましょう。"
      ]
    },
    {
      "cell_type": "code",
      "execution_count": null,
      "metadata": {
        "id": "OsHcq-kaDwIi"
      },
      "outputs": [],
      "source": [
        "import streamlit as st\n",
        "from pyngrok import ngrok"
      ]
    },
    {
      "cell_type": "markdown",
      "metadata": {
        "id": "5fOtVgU5duPe"
      },
      "source": [
        "## ●シンプルなアプリの作成\n",
        "タイトルおよび表を表示するシンプルなアプリを作成し、ファイルに保存します。  \n",
        "表の表示には、pandasのDataFrameを使います。  \n",
        "`%%writefile`のマジックコマンドを使って、以下のコードを「app.py」に書き込みます。"
      ]
    },
    {
      "cell_type": "code",
      "execution_count": null,
      "metadata": {
        "id": "Ntj_BU3bnJli"
      },
      "outputs": [],
      "source": [
        "%%writefile app.py\n",
        "# 以下を「app.py」に書き込み\n",
        "import streamlit as st\n",
        "import numpy as np\n",
        "\n",
        "# Interactive Streamlit elements, like these sliders, return their value.\n",
        "# This gives you an extremely simple interaction model.\n",
        "iterations = st.sidebar.slider(\"Level of detail\", 2, 20, 10, 1)\n",
        "separation = st.sidebar.slider(\"Separation\", 0.7, 2.0, 0.7885)\n",
        "\n",
        "# Non-interactive elements return a placeholder to their location\n",
        "# in the app. Here we're storing progress_bar to update it later.\n",
        "progress_bar = st.sidebar.progress(0)\n",
        "\n",
        "# These two elements will be filled in later, so we create a placeholder\n",
        "# for them using st.empty()\n",
        "frame_text = st.sidebar.empty()\n",
        "image = st.empty()\n",
        "\n",
        "m, n, s = 960, 640, 400\n",
        "x = np.linspace(-m / s, m / s, num=m).reshape((1, m))\n",
        "y = np.linspace(-n / s, n / s, num=n).reshape((n, 1))\n",
        "\n",
        "for frame_num, a in enumerate(np.linspace(0.0, 4 * np.pi, 100)):\n",
        "    # Here were setting value for these two elements.\n",
        "    progress_bar.progress(frame_num)\n",
        "    frame_text.text(\"Frame %i/100\" % (frame_num + 1))\n",
        "\n",
        "    # Performing some fractal wizardry.\n",
        "    c = separation * np.exp(1j * a)\n",
        "    Z = np.tile(x, (n, 1)) + 1j * np.tile(y, (1, m))\n",
        "    C = np.full((n, m), c)\n",
        "    M = np.full((n, m), True, dtype=bool)\n",
        "    N = np.zeros((n, m))\n",
        "\n",
        "    for i in range(iterations):\n",
        "        Z[M] = Z[M] * Z[M] + C[M]\n",
        "        M[np.abs(Z) > 2] = False\n",
        "        N[M] = i\n",
        "\n",
        "    # Update the image placeholder by calling the image() function on it.\n",
        "    image.image(1.0 - (N / N.max()), use_column_width=True)\n",
        "\n",
        "# We clear elements by calling empty on them.\n",
        "progress_bar.empty()\n",
        "frame_text.empty()\n",
        "\n",
        "# Streamlit widgets automatically run the script from top to bottom. Since\n",
        "# this button is not connected to any other logic, it just causes a plain\n",
        "# rerun.\n",
        "st.button(\"Re-run\")"
      ]
    },
    {
      "cell_type": "markdown",
      "metadata": {
        "id": "j03EsJaHh4KK"
      },
      "source": [
        "## ●Authtokenの設定\n",
        "ngrokで接続するために必要な「Authtoken」を設定します。  \n",
        "以下のコードの、  \n",
        "`!ngrok authtoken YourAuthtoken`  \n",
        "における  \n",
        "`YourAuthtoken`の箇所を、自分のAuthtokenに置き換えます。  \n",
        "Authtokenは、ngrokのサイトに登録すれば取得することができます。  \n",
        "https://ngrok.com/\n"
      ]
    },
    {
      "cell_type": "code",
      "execution_count": null,
      "metadata": {
        "id": "mTfmORj2Dn7-"
      },
      "outputs": [],
      "source": [
        "!ngrok authtoken YourAuthtoken"
      ]
    },
    {
      "cell_type": "markdown",
      "metadata": {
        "id": "CnobL05MkjB1"
      },
      "source": [
        "## ●アプリの起動と動作確認\n",
        "streamlitの`run`コマンドでアプリを起動します。\n"
      ]
    },
    {
      "cell_type": "code",
      "execution_count": null,
      "metadata": {
        "id": "W0jXlMXWK0vi"
      },
      "outputs": [],
      "source": [
        "!streamlit run app.py &>/dev/null&  # 「&>/dev/null&」により、出力を非表示にしてバックグランドジョブとして実行"
      ]
    },
    {
      "cell_type": "markdown",
      "metadata": {
        "id": "W5RLCJ7Sl2x_"
      },
      "source": [
        "ngrokのプロセスを終了した上で、新たにポートを指定して接続します。  \n",
        "接続の結果、urlを取得できます。  \n",
        "ngrokの無料プランでは同時に1つのプロセスしか動かせないので、エラーが発生した場合は「ランタイム」→「セッションの管理」で不要なGoogle Colabのセッションを修了しましょう。  "
      ]
    },
    {
      "cell_type": "code",
      "execution_count": null,
      "metadata": {
        "id": "v23ymsdLK3x7"
      },
      "outputs": [],
      "source": [
        "ngrok.kill()  # プロセスの修了\n",
        "url = ngrok.connect(port=\"8501\")  # 接続"
      ]
    },
    {
      "cell_type": "markdown",
      "metadata": {
        "id": "NZ0O_pNan57t"
      },
      "source": [
        "urlを表示し、リンク先でアプリが動作することを確認します。"
      ]
    },
    {
      "cell_type": "code",
      "execution_count": null,
      "metadata": {
        "id": "MIY7ositLAXC"
      },
      "outputs": [],
      "source": [
        "print(url)"
      ]
    }
  ],
  "metadata": {
    "colab": {
      "authorship_tag": "ABX9TyNX9O1dpueUBz3LU9QSl9R+",
      "include_colab_link": true,
      "provenance": []
    },
    "kernelspec": {
      "display_name": "Python 3",
      "name": "python3"
    },
    "language_info": {
      "name": "python"
    }
  },
  "nbformat": 4,
  "nbformat_minor": 0
}
