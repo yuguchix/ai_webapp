{
  "nbformat": 4,
  "nbformat_minor": 0,
  "metadata": {
    "colab": {
      "provenance": [],
      "authorship_tag": "ABX9TyOux8vnACfiRcbME4OagC2T",
      "include_colab_link": true
    },
    "kernelspec": {
      "name": "python3",
      "display_name": "Python 3"
    },
    "language_info": {
      "name": "python"
    }
  },
  "cells": [
    {
      "cell_type": "markdown",
      "metadata": {
        "id": "view-in-github",
        "colab_type": "text"
      },
      "source": [
        "<a href=\"https://colab.research.google.com/github/yukinaga/ai_webapp/blob/main/section_2/05_exercise.ipynb\" target=\"_parent\"><img src=\"https://colab.research.google.com/assets/colab-badge.svg\" alt=\"Open In Colab\"/></a>"
      ]
    },
    {
      "cell_type": "markdown",
      "metadata": {
        "id": "8kW_qXJVTjic"
      },
      "source": [
        "# 演習\n",
        "「プログレスバー」、および「バルーン」をページに表示してみましょう。"
      ]
    },
    {
      "cell_type": "markdown",
      "source": [
        "## ●ライブラリのインストール"
      ],
      "metadata": {
        "id": "vRJCuxALcgkb"
      }
    },
    {
      "cell_type": "code",
      "execution_count": null,
      "metadata": {
        "id": "Pbqipzj3nCy4"
      },
      "outputs": [],
      "source": [
        "!pip install streamlit==1.20.0 --quiet\n",
        "!pip install pyngrok==4.1.1 --quiet"
      ]
    },
    {
      "cell_type": "markdown",
      "source": [
        "Streamlit、およびngrokをインポートしておきます。  \n",
        "エラーが発生する場合は、「ランタイム」→「ランタイムを再起動」によりランタイムを再起動し、再びコードセルを上から順に実行しましょう。"
      ],
      "metadata": {
        "id": "uVOf7-MjoZMG"
      }
    },
    {
      "cell_type": "code",
      "source": [
        "import streamlit as st\n",
        "from pyngrok import ngrok"
      ],
      "metadata": {
        "id": "OsHcq-kaDwIi"
      },
      "execution_count": null,
      "outputs": []
    },
    {
      "cell_type": "markdown",
      "source": [
        "## ●「プログレスバー」と「バルーン」の表示\n",
        "以下のドキュメントを参考に、「プログレスバー」の終了後に「バルーン」が表示されるコードを記述しましょう。  \n",
        "プログレスバー: https://docs.streamlit.io/library/api-reference/status/st.progress  \n",
        "バルーン: https://docs.streamlit.io/library/api-reference/status/st.balloons  "
      ],
      "metadata": {
        "id": "5fOtVgU5duPe"
      }
    },
    {
      "cell_type": "code",
      "source": [
        "%%writefile app.py\n",
        "# 以下を「app.py」に書き込み\n",
        "import streamlit as st\n",
        "import pandas as pd\n",
        "import time\n",
        "\n",
        "# ---------- st.progress() ----------\n",
        "pro_bar = st.progress(0)\n",
        "for i in range(100):\n",
        "    time.sleep(0.1)\n",
        "    pro_bar.  # ←ここにコードを追記\n",
        "\n",
        "# ---------- st.progress() ----------\n",
        "st.  # ←ここにコードを追記"
      ],
      "metadata": {
        "id": "Ntj_BU3bnJli"
      },
      "execution_count": null,
      "outputs": []
    },
    {
      "cell_type": "markdown",
      "source": [
        "## ●Authtokenの設定\n",
        "ngrokで接続するために必要な「Authtoken」を設定します。  \n",
        "以下のコードの、  \n",
        "`!ngrok authtoken YourAuthtoken`  \n",
        "における  \n",
        "`YourAuthtoken`の箇所を、自分のAuthtokenに置き換えます。  \n",
        "Authtokenは、ngrokのサイトに登録すれば取得することができます。  \n",
        "https://ngrok.com/\n"
      ],
      "metadata": {
        "id": "j03EsJaHh4KK"
      }
    },
    {
      "cell_type": "code",
      "source": [
        "!ngrok authtoken YourAuthtoken"
      ],
      "metadata": {
        "id": "mTfmORj2Dn7-"
      },
      "execution_count": null,
      "outputs": []
    },
    {
      "cell_type": "markdown",
      "source": [
        "## ●アプリの起動と動作確認\n",
        "streamlitの`run`コマンドでアプリを起動します。\n"
      ],
      "metadata": {
        "id": "CnobL05MkjB1"
      }
    },
    {
      "cell_type": "code",
      "source": [
        "!streamlit run app.py &>/dev/null&  # 「&>/dev/null&」により、出力を非表示にしてバックグランドジョブとして実行"
      ],
      "metadata": {
        "id": "W0jXlMXWK0vi"
      },
      "execution_count": null,
      "outputs": []
    },
    {
      "cell_type": "markdown",
      "source": [
        "ngrokのプロセスを終了した上で、新たにポートを指定して接続します。  \n",
        "接続の結果、urlを取得できます。  \n",
        "ngrokの無料プランでは同時に1つのプロセスしか動かせないので、エラーが発生した場合は「ランタイム」→「セッションの管理」で不要なGoogle Colabのセッションを修了しましょう。  "
      ],
      "metadata": {
        "id": "W5RLCJ7Sl2x_"
      }
    },
    {
      "cell_type": "code",
      "source": [
        "ngrok.kill()  # プロセスの修了\n",
        "url = ngrok.connect(port=\"8501\")  # 接続"
      ],
      "metadata": {
        "id": "v23ymsdLK3x7"
      },
      "execution_count": null,
      "outputs": []
    },
    {
      "cell_type": "markdown",
      "source": [
        "urlを表示し、リンク先でアプリが動作することを確認します。"
      ],
      "metadata": {
        "id": "NZ0O_pNan57t"
      }
    },
    {
      "cell_type": "code",
      "source": [
        "print(url)"
      ],
      "metadata": {
        "id": "MIY7ositLAXC"
      },
      "execution_count": null,
      "outputs": []
    },
    {
      "cell_type": "markdown",
      "metadata": {
        "id": "VEBDnUbHZ21y"
      },
      "source": [
        "# 解答例\n",
        "以下は、解答例です。  \n",
        "どうしても手がかりがないときのみ参考にしましょう。"
      ]
    },
    {
      "cell_type": "code",
      "metadata": {
        "id": "HHDjCHKok9bi"
      },
      "source": [
        "%%writefile app.py\n",
        "# 以下を「app.py」に書き込み\n",
        "import streamlit as st\n",
        "import pandas as pd\n",
        "import time\n",
        "\n",
        "# ---------- st.progress() ----------\n",
        "pro_bar = st.progress(0)\n",
        "for i in range(100):\n",
        "    time.sleep(0.1)\n",
        "    pro_bar.progress(i + 1)  # ←ここにコードを追記\n",
        "\n",
        "# ---------- st.progress() ----------\n",
        "st.balloons()  # ←ここにコードを追記"
      ],
      "execution_count": null,
      "outputs": []
    }
  ]
}